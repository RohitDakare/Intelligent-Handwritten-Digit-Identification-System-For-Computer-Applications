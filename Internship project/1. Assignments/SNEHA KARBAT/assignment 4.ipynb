{
 "cells": [
  {
   "cell_type": "code",
   "execution_count": 1,
   "id": "57957bfe-ddb6-49c2-a752-55710bb06ebe",
   "metadata": {},
   "outputs": [],
   "source": [
    "import sqlite3\n",
    "from flask import Flask, render_template, request, redirect, url_for\n",
    "from IPython.display import IFrame\n",
    "import threading\n",
    "\n",
    "DATABASE = 'tasks.db'\n",
    "\n",
    "# Initialize the database\n",
    "def init_db():\n",
    "    conn = sqlite3.connect(DATABASE)\n",
    "    cursor = conn.cursor()\n",
    "    cursor.execute('''\n",
    "        CREATE TABLE IF NOT EXISTS tasks (\n",
    "            id INTEGER PRIMARY KEY AUTOINCREMENT,\n",
    "            description TEXT NOT NULL,\n",
    "            status INTEGER DEFAULT 0\n",
    "        )\n",
    "    ''')\n",
    "    conn.commit()\n",
    "    conn.close()\n",
    "\n",
    "init_db()\n"
   ]
  },
  {
   "cell_type": "code",
   "execution_count": 2,
   "id": "b7300964-6844-4e1c-af4d-5d4fd15c15f0",
   "metadata": {},
   "outputs": [
    {
     "name": "stdout",
     "output_type": "stream",
     "text": [
      " * Serving Flask app '__main__'\n",
      " * Debug mode: on\n"
     ]
    },
    {
     "name": "stderr",
     "output_type": "stream",
     "text": [
      "WARNING: This is a development server. Do not use it in a production deployment. Use a production WSGI server instead.\n",
      " * Running on http://127.0.0.1:5000\n",
      "Press CTRL+C to quit\n",
      "127.0.0.1 - - [30/Oct/2024 20:23:42] \"GET / HTTP/1.1\" 200 -\n"
     ]
    }
   ],
   "source": [
    "app = Flask(__name__)\n",
    "\n",
    "# Function to connect to database\n",
    "def get_db_connection():\n",
    "    conn = sqlite3.connect(DATABASE)\n",
    "    conn.row_factory = sqlite3.Row\n",
    "    return conn\n",
    "\n",
    "# Routes\n",
    "@app.route('/')\n",
    "def home():\n",
    "    conn = get_db_connection()\n",
    "    tasks = conn.execute('SELECT * FROM tasks').fetchall()\n",
    "    conn.close()\n",
    "    return render_template('home.html', tasks=tasks)\n",
    "\n",
    "@app.route('/create', methods=('GET', 'POST'))\n",
    "def create():\n",
    "    if request.method == 'POST':\n",
    "        description = request.form['description']\n",
    "        conn = get_db_connection()\n",
    "        conn.execute('INSERT INTO tasks (description) VALUES (?)', (description,))\n",
    "        conn.commit()\n",
    "        conn.close()\n",
    "        return redirect(url_for('home'))\n",
    "    return render_template('create.html')\n",
    "\n",
    "@app.route('/update/<int:id>', methods=('GET', 'POST'))\n",
    "def update(id):\n",
    "    conn = get_db_connection()\n",
    "    task = conn.execute('SELECT * FROM tasks WHERE id = ?', (id,)).fetchone()\n",
    "    \n",
    "    if request.method == 'POST':\n",
    "        description = request.form['description']\n",
    "        status = request.form.get('status', 0)\n",
    "        conn.execute('UPDATE tasks SET description = ?, status = ? WHERE id = ?',\n",
    "                     (description, int(status), id))\n",
    "        conn.commit()\n",
    "        conn.close()\n",
    "        return redirect(url_for('home'))\n",
    "\n",
    "    conn.close()\n",
    "    return render_template('update.html', task=task)\n",
    "\n",
    "@app.route('/delete/<int:id>', methods=('POST',))\n",
    "def delete(id):\n",
    "    conn = get_db_connection()\n",
    "    conn.execute('DELETE FROM tasks WHERE id = ?', (id,))\n",
    "    conn.commit()\n",
    "    conn.close()\n",
    "    return redirect(url_for('home'))\n",
    "\n",
    "# Run the app in a separate thread\n",
    "def run_app():\n",
    "    app.run(debug=True, use_reloader=False)\n",
    "\n",
    "# Start the Flask app in a thread\n",
    "thread = threading.Thread(target=run_app)\n",
    "thread.start()\n"
   ]
  },
  {
   "cell_type": "code",
   "execution_count": 3,
   "id": "fd978b0f-bb63-4e38-a150-bec43cf25538",
   "metadata": {},
   "outputs": [
    {
     "name": "stdout",
     "output_type": "stream",
     "text": [
      "Overwriting templates/home.html\n"
     ]
    }
   ],
   "source": [
    "%%writefile templates/home.html\n",
    "<!DOCTYPE html>\n",
    "<html lang=\"en\">\n",
    "<head>\n",
    "    <meta charset=\"UTF-8\">\n",
    "    <title>Task Manager</title>\n",
    "</head>\n",
    "<body>\n",
    "    <h1>Task Manager</h1>\n",
    "    <a href=\"{{ url_for('create') }}\">Add New Task</a>\n",
    "    <ul>\n",
    "        {% for task in tasks %}\n",
    "        <li>\n",
    "            {{ task['description'] }} - \n",
    "            {% if task['status'] == 1 %} Complete {% else %} Incomplete {% endif %}\n",
    "            <a href=\"{{ url_for('update', id=task['id']) }}\">Edit</a>\n",
    "            <form action=\"{{ url_for('delete', id=task['id']) }}\" method=\"post\" style=\"display:inline;\">\n",
    "                <button type=\"submit\">Delete</button>\n",
    "            </form>\n",
    "        </li>\n",
    "        {% endfor %}\n",
    "    </ul>\n",
    "</body>\n",
    "</html>\n"
   ]
  },
  {
   "cell_type": "code",
   "execution_count": 4,
   "id": "759edc8f-a69b-4f32-9eab-f5e339661bb4",
   "metadata": {},
   "outputs": [
    {
     "name": "stdout",
     "output_type": "stream",
     "text": [
      "Overwriting templates/create.html\n"
     ]
    }
   ],
   "source": [
    "%%writefile templates/create.html\n",
    "<!DOCTYPE html>\n",
    "<html lang=\"en\">\n",
    "<head>\n",
    "    <meta charset=\"UTF-8\">\n",
    "    <title>Create Task</title>\n",
    "</head>\n",
    "<body>\n",
    "    <h1>Create a New Task</h1>\n",
    "    <form action=\"{{ url_for('create') }}\" method=\"post\">\n",
    "        <label for=\"description\">Task Description:</label>\n",
    "        <input type=\"text\" name=\"description\" id=\"description\" required>\n",
    "        <button type=\"submit\">Create Task</button>\n",
    "    </form>\n",
    "    <a href=\"{{ url_for('home') }}\">Back to Task List</a>\n",
    "</body>\n",
    "</html>\n"
   ]
  },
  {
   "cell_type": "code",
   "execution_count": 5,
   "id": "270a0108-67cc-44f1-856f-42b5798baa78",
   "metadata": {},
   "outputs": [
    {
     "name": "stdout",
     "output_type": "stream",
     "text": [
      "Overwriting templates/update.html\n"
     ]
    }
   ],
   "source": [
    "%%writefile templates/update.html\n",
    "<!DOCTYPE html>\n",
    "<html lang=\"en\">\n",
    "<head>\n",
    "    <meta charset=\"UTF-8\">\n",
    "    <title>Update Task</title>\n",
    "</head>\n",
    "<body>\n",
    "    <h1>Update Task</h1>\n",
    "    <form action=\"{{ url_for('update', id=task['id']) }}\" method=\"post\">\n",
    "        <label for=\"description\">Task Description:</label>\n",
    "        <input type=\"text\" name=\"description\" id=\"description\" value=\"{{ task['description'] }}\" required>\n",
    "        \n",
    "        <label for=\"status\">Complete:</label>\n",
    "        <input type=\"checkbox\" name=\"status\" id=\"status\" value=\"1\" {% if task['status'] == 1 %}checked{% endif %}>\n",
    "        \n",
    "        <button type=\"submit\">Update Task</button>\n",
    "    </form>\n",
    "    <a href=\"{{ url_for('home') }}\">Back to Task List</a>\n",
    "</body>\n",
    "</html>\n"
   ]
  },
  {
   "cell_type": "code",
   "execution_count": 6,
   "id": "e095e52d-67bd-415f-88b0-ec9f549a95a4",
   "metadata": {},
   "outputs": [
    {
     "data": {
      "text/html": [
       "\n",
       "        <iframe\n",
       "            width=\"700\"\n",
       "            height=\"400\"\n",
       "            src=\"http://127.0.0.1:5000/\"\n",
       "            frameborder=\"0\"\n",
       "            allowfullscreen\n",
       "            \n",
       "        ></iframe>\n",
       "        "
      ],
      "text/plain": [
       "<IPython.lib.display.IFrame at 0x20efc6447d0>"
      ]
     },
     "execution_count": 6,
     "metadata": {},
     "output_type": "execute_result"
    }
   ],
   "source": [
    "IFrame(src=\"http://127.0.0.1:5000/\", width=700, height=400)\n"
   ]
  }
 ],
 "metadata": {
  "kernelspec": {
   "display_name": "Python 3 (ipykernel)",
   "language": "python",
   "name": "python3"
  },
  "language_info": {
   "codemirror_mode": {
    "name": "ipython",
    "version": 3
   },
   "file_extension": ".py",
   "mimetype": "text/x-python",
   "name": "python",
   "nbconvert_exporter": "python",
   "pygments_lexer": "ipython3",
   "version": "3.11.9"
  }
 },
 "nbformat": 4,
 "nbformat_minor": 5
}
