{
 "cells": [
  {
   "cell_type": "code",
   "execution_count": 35,
   "id": "17939a04-2585-46ea-a402-a775548a4a26",
   "metadata": {},
   "outputs": [],
   "source": [
    "# Import libraries\n",
    "import os\n",
    "import cv2\n",
    "import glob\n",
    "import numpy as np\n",
    "from tkinter import *\n",
    "from PIL import Image, ImageDraw, ImageGrab\n",
    "from keras.models import load_model"
   ]
  },
  {
   "cell_type": "code",
   "execution_count": 36,
   "id": "8c1a6762-0795-4bca-ae8c-d9a710697f80",
   "metadata": {},
   "outputs": [
    {
     "name": "stdout",
     "output_type": "stream",
     "text": [
      "Model loaded successfully. Ready for predictions.\n"
     ]
    }
   ],
   "source": [
    "# Load the model\n",
    "model = load_model(r\" \")\n",
    "model.compile(optimizer='adam', loss='categorical_crossentropy', metrics=['accuracy'])\n",
    "print(\"Model loaded successfully. Ready for predictions.\")"
   ]
  },
  {
   "cell_type": "code",
   "execution_count": 37,
   "id": "fa2824da-c139-4831-adbf-027ae6c9f114",
   "metadata": {},
   "outputs": [
    {
     "data": {
      "text/plain": [
       "''"
      ]
     },
     "execution_count": 37,
     "metadata": {},
     "output_type": "execute_result"
    }
   ],
   "source": [
    "# Create a main window (named as root)\n",
    "root = Tk()\n",
    "root.resizable(0, 0)\n",
    "root.title(\"Handwritten Digit Recognition GUI App\")"
   ]
  },
  {
   "cell_type": "code",
   "execution_count": 38,
   "id": "6ff2dde6-965f-4e3d-a15c-c86f6551610a",
   "metadata": {},
   "outputs": [],
   "source": [
    "# Initialize few variables\n",
    "lastx, lasty = None, None\n",
    "image_number = 0"
   ]
  },
  {
   "cell_type": "code",
   "execution_count": 39,
   "id": "35c1a43f-f4b5-4312-89a2-082fef0b6ddc",
   "metadata": {},
   "outputs": [],
   "source": [
    "# Create a canvas for drawing\n",
    "cv = Canvas(root, width=640, height=480, bg='white')\n",
    "cv.grid(row=0, column=0, pady=2, sticky=W, columnspan=2)"
   ]
  },
  {
   "cell_type": "code",
   "execution_count": 40,
   "id": "a242e6b8-4e79-464e-9f36-055c2c6c7640",
   "metadata": {},
   "outputs": [],
   "source": [
    "# Add buttons and labels\n",
    "btn_recognize = Button(text=\"Recognize Digit\", command=lambda: Recognize_Digit())\n",
    "btn_recognize.grid(row=2, column=0, pady=1, padx=1)\n",
    "\n",
    "btn_clear = Button(text=\"Clear\", command=lambda: clear_widget())\n",
    "btn_clear.grid(row=2, column=1, pady=1, padx=1)"
   ]
  },
  {
   "cell_type": "code",
   "execution_count": 41,
   "id": "40e781a2-2976-4163-b436-f0a583a67491",
   "metadata": {},
   "outputs": [],
   "source": [
    "# Function to clear the canvas\n",
    "def clear_widget():\n",
    "    global cv\n",
    "    cv.delete(\"all\")"
   ]
  },
  {
   "cell_type": "code",
   "execution_count": 42,
   "id": "f5dd7914-875c-4051-b3f1-fb52264ddd04",
   "metadata": {},
   "outputs": [],
   "source": [
    "# Function to handle mouse events\n",
    "def activate_event(event):\n",
    "    global lastx, lasty\n",
    "    cv.bind('<B1-Motion>', draw_lines)\n",
    "    lastx, lasty = event.x, event.y"
   ]
  },
  {
   "cell_type": "code",
   "execution_count": 43,
   "id": "224ab11b-8ecd-4598-9a64-d0a355a9bee0",
   "metadata": {},
   "outputs": [],
   "source": [
    "# Function to draw lines on the canvas\n",
    "def draw_lines(event):\n",
    "    global lastx, lasty\n",
    "    x, y = event.x, event.y\n",
    "    cv.create_line((lastx, lasty, x, y), width=8, fill='black', capstyle=ROUND, smooth=True, splinesteps=12)\n",
    "    lastx, lasty = x, y"
   ]
  },
  {
   "cell_type": "code",
   "execution_count": 44,
   "id": "300c7d4e-9de3-48db-bd05-dfe9343ef7ac",
   "metadata": {},
   "outputs": [],
   "source": [
    "def Recognize_Digit():\n",
    "    global image_number\n",
    "    predictions = []\n",
    "    percentage = []\n",
    "    filename = f'image_{image_number}.png'\n",
    "    widget = cv\n",
    "\n",
    "    # Get the widget coordinates\n",
    "    x = root.winfo_rootx() + widget.winfo_x()\n",
    "    y = root.winfo_rooty() + widget.winfo_y()\n",
    "    x1 = x + widget.winfo_width()\n",
    "    y1 = y + widget.winfo_height()\n",
    "\n",
    "    # Grab the image and save it in PNG format\n",
    "    ImageGrab.grab().crop((x, y, x1, y1)).save(filename)\n",
    "\n",
    "    # Read the image in color format\n",
    "    image = cv2.imread(filename, cv2.IMREAD_COLOR)\n",
    "\n",
    "    # Convert the image to grayscale\n",
    "    gray = cv2.cvtColor(image, cv2.COLOR_BGR2GRAY)\n",
    "\n",
    "    # Applying Otsu thresholding\n",
    "    ret, th = cv2.threshold(gray, 0, 255, cv2.THRESH_BINARY_INV + cv2.THRESH_OTSU)\n",
    "\n",
    "    # Find contours\n",
    "    contours, _ = cv2.findContours(th, cv2.RETR_EXTERNAL, cv2.CHAIN_APPROX_SIMPLE)\n",
    "    for cnt in contours:\n",
    "        # Get bounding box and extract ROI\n",
    "        x, y, w, h = cv2.boundingRect(cnt)\n",
    "\n",
    "        # Create rectangle around detected digit\n",
    "        cv2.rectangle(image, (x, y), (x + w, y + h), (255, 0, 0), 1)\n",
    "\n",
    "        top = int(0.05 * th.shape[0])\n",
    "        bottom = top\n",
    "        left = int(0.05 * th.shape[1])\n",
    "        right = left\n",
    "\n",
    "        # Extract the image ROI\n",
    "        roi = th[y - top:y + h + bottom, x - left:x + w + right]\n",
    "        if roi.size == 0:\n",
    "            print(\"Empty ROI!\")\n",
    "            continue  # Skip to the next contour\n",
    "\n",
    "        # Resize ROI image to 28x28 pixels\n",
    "        img = cv2.resize(roi, (28, 28), interpolation=cv2.INTER_AREA)\n",
    "\n",
    "        # Reshape the image to support model input\n",
    "        img = img.reshape(1, 28, 28, 1)\n",
    "        \n",
    "        # Normalize the image to support model input\n",
    "        img = img / 255.0\n",
    "\n",
    "        # Predict the result\n",
    "        try:\n",
    "            pred = model.predict([img])[0]\n",
    "            final_pred = np.argmax(pred)\n",
    "            confidence = int(max(pred) * 100)\n",
    "            data = f\"{final_pred} {confidence}%\"\n",
    "\n",
    "            # Draw predicted result on the image\n",
    "            cv2.putText(image, data, (x, y - 5), cv2.FONT_HERSHEY_SIMPLEX, 0.5, (255, 0, 0), 1)\n",
    "        except Exception as e:\n",
    "            print(\"Error during prediction:\", str(e))\n",
    "\n",
    "    # Show the predicted results in a new window\n",
    "    cv2.imshow('Predicted Image', image)\n",
    "    cv2.waitKey(0)\n",
    "    cv2.destroyAllWindows()\n"
   ]
  },
  {
   "cell_type": "code",
   "execution_count": 45,
   "id": "b3449b3c-d5e4-4853-9673-34a852e0f335",
   "metadata": {},
   "outputs": [
    {
     "name": "stdout",
     "output_type": "stream",
     "text": [
      "\u001b[1m1/1\u001b[0m \u001b[32m━━━━━━━━━━━━━━━━━━━━\u001b[0m\u001b[37m\u001b[0m \u001b[1m0s\u001b[0m 66ms/step\n",
      "\u001b[1m1/1\u001b[0m \u001b[32m━━━━━━━━━━━━━━━━━━━━\u001b[0m\u001b[37m\u001b[0m \u001b[1m0s\u001b[0m 16ms/step\n",
      "\u001b[1m1/1\u001b[0m \u001b[32m━━━━━━━━━━━━━━━━━━━━\u001b[0m\u001b[37m\u001b[0m \u001b[1m0s\u001b[0m 17ms/step\n",
      "\u001b[1m1/1\u001b[0m \u001b[32m━━━━━━━━━━━━━━━━━━━━\u001b[0m\u001b[37m\u001b[0m \u001b[1m0s\u001b[0m 16ms/step\n",
      "\u001b[1m1/1\u001b[0m \u001b[32m━━━━━━━━━━━━━━━━━━━━\u001b[0m\u001b[37m\u001b[0m \u001b[1m0s\u001b[0m 17ms/step\n",
      "\u001b[1m1/1\u001b[0m \u001b[32m━━━━━━━━━━━━━━━━━━━━\u001b[0m\u001b[37m\u001b[0m \u001b[1m0s\u001b[0m 15ms/step\n",
      "\u001b[1m1/1\u001b[0m \u001b[32m━━━━━━━━━━━━━━━━━━━━\u001b[0m\u001b[37m\u001b[0m \u001b[1m0s\u001b[0m 16ms/step\n",
      "\u001b[1m1/1\u001b[0m \u001b[32m━━━━━━━━━━━━━━━━━━━━\u001b[0m\u001b[37m\u001b[0m \u001b[1m0s\u001b[0m 16ms/step\n",
      "\u001b[1m1/1\u001b[0m \u001b[32m━━━━━━━━━━━━━━━━━━━━\u001b[0m\u001b[37m\u001b[0m \u001b[1m0s\u001b[0m 16ms/step\n",
      "\u001b[1m1/1\u001b[0m \u001b[32m━━━━━━━━━━━━━━━━━━━━\u001b[0m\u001b[37m\u001b[0m \u001b[1m0s\u001b[0m 16ms/step\n",
      "\u001b[1m1/1\u001b[0m \u001b[32m━━━━━━━━━━━━━━━━━━━━\u001b[0m\u001b[37m\u001b[0m \u001b[1m0s\u001b[0m 17ms/step\n",
      "\u001b[1m1/1\u001b[0m \u001b[32m━━━━━━━━━━━━━━━━━━━━\u001b[0m\u001b[37m\u001b[0m \u001b[1m0s\u001b[0m 24ms/step\n",
      "\u001b[1m1/1\u001b[0m \u001b[32m━━━━━━━━━━━━━━━━━━━━\u001b[0m\u001b[37m\u001b[0m \u001b[1m0s\u001b[0m 15ms/step\n",
      "\u001b[1m1/1\u001b[0m \u001b[32m━━━━━━━━━━━━━━━━━━━━\u001b[0m\u001b[37m\u001b[0m \u001b[1m0s\u001b[0m 14ms/step\n",
      "\u001b[1m1/1\u001b[0m \u001b[32m━━━━━━━━━━━━━━━━━━━━\u001b[0m\u001b[37m\u001b[0m \u001b[1m0s\u001b[0m 17ms/step\n",
      "Empty ROI!\n",
      "\u001b[1m1/1\u001b[0m \u001b[32m━━━━━━━━━━━━━━━━━━━━\u001b[0m\u001b[37m\u001b[0m \u001b[1m0s\u001b[0m 17ms/step\n",
      "\u001b[1m1/1\u001b[0m \u001b[32m━━━━━━━━━━━━━━━━━━━━\u001b[0m\u001b[37m\u001b[0m \u001b[1m0s\u001b[0m 16ms/step\n",
      "\u001b[1m1/1\u001b[0m \u001b[32m━━━━━━━━━━━━━━━━━━━━\u001b[0m\u001b[37m\u001b[0m \u001b[1m0s\u001b[0m 15ms/step\n",
      "\u001b[1m1/1\u001b[0m \u001b[32m━━━━━━━━━━━━━━━━━━━━\u001b[0m\u001b[37m\u001b[0m \u001b[1m0s\u001b[0m 15ms/step\n",
      "\u001b[1m1/1\u001b[0m \u001b[32m━━━━━━━━━━━━━━━━━━━━\u001b[0m\u001b[37m\u001b[0m \u001b[1m0s\u001b[0m 15ms/step\n"
     ]
    }
   ],
   "source": [
    "# Bind the activate event for drawing\n",
    "cv.bind('<Button-1>', activate_event)\n",
    "\n",
    "# Main loop\n",
    "root.mainloop()"
   ]
  },
  {
   "cell_type": "code",
   "execution_count": null,
   "id": "004f9951-1fea-4191-af1d-e6d8a034cfa9",
   "metadata": {},
   "outputs": [],
   "source": []
  }
 ],
 "metadata": {
  "kernelspec": {
   "display_name": "Python 3 (ipykernel)",
   "language": "python",
   "name": "python3"
  },
  "language_info": {
   "codemirror_mode": {
    "name": "ipython",
    "version": 3
   },
   "file_extension": ".py",
   "mimetype": "text/x-python",
   "name": "python",
   "nbconvert_exporter": "python",
   "pygments_lexer": "ipython3",
   "version": "3.11.9"
  }
 },
 "nbformat": 4,
 "nbformat_minor": 5
}
