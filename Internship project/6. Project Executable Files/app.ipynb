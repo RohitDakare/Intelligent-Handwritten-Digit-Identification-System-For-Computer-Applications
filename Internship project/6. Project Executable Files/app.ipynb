{
 "cells": [
  {
   "cell_type": "code",
   "execution_count": 15,
   "id": "b9732c26-53e8-462e-b597-b32f2e99fff1",
   "metadata": {},
   "outputs": [],
   "source": [
    "# Import libraries\n",
    "import numpy as np\n",
    "import matplotlib.pyplot as plt\n",
    "from keras.datasets import mnist\n",
    "from keras.models import Sequential\n",
    "from keras.layers import Dense, Dropout, Flatten, Conv2D, MaxPooling2D, BatchNormalization, Input\n",
    "from keras.utils import to_categorical\n",
    "from tensorflow.keras.preprocessing.image import ImageDataGenerator\n",
    "import warnings\n",
    "warnings.filterwarnings(\"ignore\", category=UserWarning, module=\"keras\")"
   ]
  },
  {
   "cell_type": "code",
   "execution_count": 16,
   "id": "1cd65ae4-4d6f-43e0-a1c6-f341b790d8c2",
   "metadata": {},
   "outputs": [],
   "source": [
    "# Load dataset directly from the Keras library\n",
    "(X_train, y_train), (X_test, y_test) = mnist.load_data()"
   ]
  },
  {
   "cell_type": "code",
   "execution_count": 17,
   "id": "75cd11fc-5c93-41d1-b2e0-b26d7330e3eb",
   "metadata": {},
   "outputs": [
    {
     "data": {
      "image/png": "[encoded data removed]",
      "text/plain": [
       "<Figure size 640x480 with 6 Axes>"
      ]
     },
     "metadata": {},
     "output_type": "display_data"
    }
   ],
   "source": [
    "# Plot the first six samples of the MNIST training dataset as grayscale images\n",
    "for i in range(6):\n",
    "    plt.subplot(230 + i + 1)\n",
    "    plt.imshow(X_train[i], cmap=plt.get_cmap('gray'))\n",
    "    plt.axis('off')  # Hide axis ticks\n",
    "plt.show()"
   ]
  },
  {
   "cell_type": "code",
   "execution_count": 18,
   "id": "83c5a508-359e-408d-86b5-51f37dfd8ef6",
   "metadata": {},
   "outputs": [],
   "source": [
    "# Reshape format [samples][width][height][channels]\n",
    "X_train = X_train.reshape(X_train.shape[0], 28, 28, 1).astype('float32')\n",
    "X_test = X_test.reshape(X_test.shape[0], 28, 28, 1).astype('float32')\n"
   ]
  },
  {
   "cell_type": "code",
   "execution_count": 19,
   "id": "20b8d1d8-1114-4e0f-8cbd-38cdd288e996",
   "metadata": {},
   "outputs": [],
   "source": [
    "# Convert class vectors (integers) to binary class matrix\n",
    "y_train = to_categorical(y_train)\n",
    "y_test = to_categorical(y_test)\n"
   ]
  },
  {
   "cell_type": "code",
   "execution_count": 20,
   "id": "da6cdafb-19e1-4841-a1d1-dfe1faea12ff",
   "metadata": {},
   "outputs": [],
   "source": [
    "# Normalize inputs\n",
    "X_train /= 255\n",
    "X_test /= 255"
   ]
  },
  {
   "cell_type": "code",
   "execution_count": 21,
   "id": "f93aba16-b60f-4206-812f-92cff823e31a",
   "metadata": {},
   "outputs": [],
   "source": [
    "# Data Augmentation\n",
    "datagen = ImageDataGenerator(\n",
    "    rotation_range=10,\n",
    "    width_shift_range=0.1,\n",
    "    height_shift_range=0.1,\n",
    "    zoom_range=0.1,\n",
    "    horizontal_flip=False\n",
    ")\n",
    "datagen.fit(X_train)"
   ]
  },
  {
   "cell_type": "code",
   "execution_count": 22,
   "id": "1523dff0-5902-4253-ba79-c61446d78c97",
   "metadata": {},
   "outputs": [],
   "source": [
    "# Define a CNN model with Input layer\n",
    "def create_model():\n",
    "    num_classes = 10\n",
    "    model = Sequential()\n",
    "    \n",
    "    # Add an Input layer\n",
    "    model.add(Input(shape=(28, 28, 1)))  # Specify the input shape here\n",
    "    \n",
    "    # Convolutional layers\n",
    "    model.add(Conv2D(32, kernel_size=(3, 3), activation='relu'))\n",
    "    model.add(BatchNormalization())\n",
    "    model.add(Conv2D(64, (3, 3), activation='relu'))\n",
    "    model.add(BatchNormalization())\n",
    "    model.add(MaxPooling2D(pool_size=(2, 2)))\n",
    "    model.add(Dropout(0.25))\n",
    "    \n",
    "    # Flatten and fully connected layers\n",
    "    model.add(Flatten())\n",
    "    model.add(Dense(256, activation='relu'))\n",
    "    model.add(BatchNormalization())\n",
    "    model.add(Dropout(0.5))\n",
    "    model.add(Dense(num_classes, activation='softmax'))\n",
    "    \n",
    "    # Compile the model\n",
    "    model.compile(loss='categorical_crossentropy', optimizer='adam', metrics=['accuracy'])\n",
    "    \n",
    "    return model\n",
    "\n",
    "# Build the model\n",
    "model = create_model()"
   ]
  },
  {
   "cell_type": "code",
   "execution_count": 23,
   "id": "4c86c4b1-5db2-4f41-b0d1-7333ddc547c3",
   "metadata": {},
   "outputs": [
    {
     "name": "stdout",
     "output_type": "stream",
     "text": [
      "Epoch 1/10\n",
      "300/300 - 52s - 175ms/step - accuracy: 0.9018 - loss: 0.3262 - val_accuracy: 0.1913 - val_loss: 6.4387\n",
      "Epoch 2/10\n",
      "300/300 - 51s - 169ms/step - accuracy: 0.9625 - loss: 0.1201 - val_accuracy: 0.9112 - val_loss: 0.2661\n",
      "Epoch 3/10\n",
      "300/300 - 53s - 178ms/step - accuracy: 0.9718 - loss: 0.0935 - val_accuracy: 0.9874 - val_loss: 0.0429\n",
      "Epoch 4/10\n",
      "300/300 - 53s - 178ms/step - accuracy: 0.9765 - loss: 0.0794 - val_accuracy: 0.9892 - val_loss: 0.0342\n",
      "Epoch 5/10\n",
      "300/300 - 53s - 176ms/step - accuracy: 0.9782 - loss: 0.0713 - val_accuracy: 0.9874 - val_loss: 0.0439\n",
      "Epoch 6/10\n",
      "300/300 - 52s - 175ms/step - accuracy: 0.9792 - loss: 0.0674 - val_accuracy: 0.9847 - val_loss: 0.0469\n",
      "Epoch 7/10\n",
      "300/300 - 53s - 176ms/step - accuracy: 0.9800 - loss: 0.0635 - val_accuracy: 0.9894 - val_loss: 0.0319\n",
      "Epoch 8/10\n",
      "300/300 - 52s - 174ms/step - accuracy: 0.9819 - loss: 0.0597 - val_accuracy: 0.9786 - val_loss: 0.0732\n",
      "Epoch 9/10\n",
      "300/300 - 52s - 175ms/step - accuracy: 0.9825 - loss: 0.0562 - val_accuracy: 0.9857 - val_loss: 0.0447\n",
      "Epoch 10/10\n",
      "300/300 - 53s - 176ms/step - accuracy: 0.9840 - loss: 0.0530 - val_accuracy: 0.9929 - val_loss: 0.0230\n",
      "The model has successfully trained.\n"
     ]
    }
   ],
   "source": [
    "# Fit the model with data augmentation\n",
    "model.fit(datagen.flow(X_train, y_train, batch_size=200),\n",
    "          validation_data=(X_test, y_test),\n",
    "          epochs=10, verbose=2)\n",
    "\n",
    "print(\"The model has successfully trained.\")"
   ]
  },
  {
   "cell_type": "code",
   "execution_count": 24,
   "id": "0b286e12-b192-497c-8aa1-e580bb57cd3d",
   "metadata": {},
   "outputs": [
    {
     "name": "stdout",
     "output_type": "stream",
     "text": [
      "The model has successfully saved.\n"
     ]
    }
   ],
   "source": [
    "# Save the model\n",
    "model.save('model.keras')\n",
    "print(\"The model has successfully saved.\")"
   ]
  },
  {
   "cell_type": "code",
   "execution_count": 25,
   "id": "56c77f87-68ca-4bc6-83b9-abce6ce0f43e",
   "metadata": {},
   "outputs": [
    {
     "name": "stdout",
     "output_type": "stream",
     "text": [
      "CNN error: 0.71%\n"
     ]
    }
   ],
   "source": [
    "# Evaluate the model\n",
    "scores = model.evaluate(X_test, y_test, verbose=0)\n",
    "print(\"CNN error: %.2f%%\" % (100 - scores[1] * 100))"
   ]
  },
  {
   "cell_type": "code",
   "execution_count": null,
   "id": "1ee35159-5520-47c0-9c40-910a22f21cf8",
   "metadata": {},
   "outputs": [],
   "source": []
  }
 ],
 "metadata": {
  "kernelspec": {
   "display_name": "Python 3 (ipykernel)",
   "language": "python",
   "name": "python3"
  },
  "language_info": {
   "codemirror_mode": {
    "name": "ipython",
    "version": 3
   },
   "file_extension": ".py",
   "mimetype": "text/x-python",
   "name": "python",
   "nbconvert_exporter": "python",
   "pygments_lexer": "ipython3",
   "version": "3.11.9"
  }
 },
 "nbformat": 4,
 "nbformat_minor": 5
}
